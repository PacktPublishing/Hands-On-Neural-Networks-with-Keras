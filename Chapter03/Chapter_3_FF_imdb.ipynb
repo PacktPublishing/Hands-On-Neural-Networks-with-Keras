{
 "cells": [
  {
   "cell_type": "code",
   "execution_count": 2,
   "metadata": {},
   "outputs": [],
   "source": [
    "import numpy as np\n",
    "import matplotlib.pyplot as plt\n",
    "% matplotlib inline\n",
    "\n",
    "import keras\n",
    "from keras.datasets import imdb\n",
    "from keras import optimizers\n",
    "from keras.models import Sequential\n",
    "from keras.layers import Dense   \n",
    "from keras.callbacks import EarlyStopping"
   ]
  },
  {
   "cell_type": "code",
   "execution_count": 3,
   "metadata": {},
   "outputs": [
    {
     "name": "stdout",
     "output_type": "stream",
     "text": [
      "NumPy version : 1.14.3\n",
      "Keras version 2.2.4\n",
      "With tensorflow backend, version :  1.11.0\n"
     ]
    }
   ],
   "source": [
    "# Version check\n",
    "\n",
    "import keras\n",
    "import tensorflow as tf\n",
    "\n",
    "print('NumPy version :' , np.__version__)\n",
    "print('Keras version :' , keras.__version__)\n",
    "print('With tensorflow backend, version : ', tf.__version__ )"
   ]
  },
  {
   "cell_type": "code",
   "execution_count": 5,
   "metadata": {},
   "outputs": [],
   "source": [
    "#Load data\n",
    "\n",
    "(x_train,y_train), (x_test,y_test) = imdb.load_data(num_words=12000)"
   ]
  },
  {
   "cell_type": "code",
   "execution_count": 6,
   "metadata": {},
   "outputs": [
    {
     "data": {
      "text/plain": [
       "((25000,), (25000,), numpy.ndarray)"
      ]
     },
     "execution_count": 6,
     "metadata": {},
     "output_type": "execute_result"
    }
   ],
   "source": [
    "#Check shape\n",
    "\n",
    "x_train.shape, x_test.shape, type(x_train)"
   ]
  },
  {
   "cell_type": "code",
   "execution_count": 7,
   "metadata": {},
   "outputs": [
    {
     "data": {
      "text/plain": [
       "[1,\n",
       " 194,\n",
       " 1153,\n",
       " 194,\n",
       " 8255,\n",
       " 78,\n",
       " 228,\n",
       " 5,\n",
       " 6,\n",
       " 1463,\n",
       " 4369,\n",
       " 5012,\n",
       " 134,\n",
       " 26,\n",
       " 4,\n",
       " 715,\n",
       " 8,\n",
       " 118,\n",
       " 1634,\n",
       " 14,\n",
       " 394,\n",
       " 20,\n",
       " 13,\n",
       " 119,\n",
       " 954,\n",
       " 189,\n",
       " 102,\n",
       " 5,\n",
       " 207,\n",
       " 110,\n",
       " 3103,\n",
       " 21,\n",
       " 14,\n",
       " 69,\n",
       " 188,\n",
       " 8,\n",
       " 30,\n",
       " 23,\n",
       " 7,\n",
       " 4,\n",
       " 249,\n",
       " 126,\n",
       " 93,\n",
       " 4,\n",
       " 114,\n",
       " 9,\n",
       " 2300,\n",
       " 1523,\n",
       " 5,\n",
       " 647,\n",
       " 4,\n",
       " 116,\n",
       " 9,\n",
       " 35,\n",
       " 8163,\n",
       " 4,\n",
       " 229,\n",
       " 9,\n",
       " 340,\n",
       " 1322,\n",
       " 4,\n",
       " 118,\n",
       " 9,\n",
       " 4,\n",
       " 130,\n",
       " 4901,\n",
       " 19,\n",
       " 4,\n",
       " 1002,\n",
       " 5,\n",
       " 89,\n",
       " 29,\n",
       " 952,\n",
       " 46,\n",
       " 37,\n",
       " 4,\n",
       " 455,\n",
       " 9,\n",
       " 45,\n",
       " 43,\n",
       " 38,\n",
       " 1543,\n",
       " 1905,\n",
       " 398,\n",
       " 4,\n",
       " 1649,\n",
       " 26,\n",
       " 6853,\n",
       " 5,\n",
       " 163,\n",
       " 11,\n",
       " 3215,\n",
       " 10156,\n",
       " 4,\n",
       " 1153,\n",
       " 9,\n",
       " 194,\n",
       " 775,\n",
       " 7,\n",
       " 8255,\n",
       " 11596,\n",
       " 349,\n",
       " 2637,\n",
       " 148,\n",
       " 605,\n",
       " 2,\n",
       " 8003,\n",
       " 15,\n",
       " 123,\n",
       " 125,\n",
       " 68,\n",
       " 2,\n",
       " 6853,\n",
       " 15,\n",
       " 349,\n",
       " 165,\n",
       " 4362,\n",
       " 98,\n",
       " 5,\n",
       " 4,\n",
       " 228,\n",
       " 9,\n",
       " 43,\n",
       " 2,\n",
       " 1157,\n",
       " 15,\n",
       " 299,\n",
       " 120,\n",
       " 5,\n",
       " 120,\n",
       " 174,\n",
       " 11,\n",
       " 220,\n",
       " 175,\n",
       " 136,\n",
       " 50,\n",
       " 9,\n",
       " 4373,\n",
       " 228,\n",
       " 8255,\n",
       " 5,\n",
       " 2,\n",
       " 656,\n",
       " 245,\n",
       " 2350,\n",
       " 5,\n",
       " 4,\n",
       " 9837,\n",
       " 131,\n",
       " 152,\n",
       " 491,\n",
       " 18,\n",
       " 2,\n",
       " 32,\n",
       " 7464,\n",
       " 1212,\n",
       " 14,\n",
       " 9,\n",
       " 6,\n",
       " 371,\n",
       " 78,\n",
       " 22,\n",
       " 625,\n",
       " 64,\n",
       " 1382,\n",
       " 9,\n",
       " 8,\n",
       " 168,\n",
       " 145,\n",
       " 23,\n",
       " 4,\n",
       " 1690,\n",
       " 15,\n",
       " 16,\n",
       " 4,\n",
       " 1355,\n",
       " 5,\n",
       " 28,\n",
       " 6,\n",
       " 52,\n",
       " 154,\n",
       " 462,\n",
       " 33,\n",
       " 89,\n",
       " 78,\n",
       " 285,\n",
       " 16,\n",
       " 145,\n",
       " 95]"
      ]
     },
     "execution_count": 7,
     "metadata": {},
     "output_type": "execute_result"
    }
   ],
   "source": [
    "# Print out one encoded review\n",
    "\n",
    "x_train[1]"
   ]
  },
  {
   "cell_type": "code",
   "execution_count": 8,
   "metadata": {},
   "outputs": [],
   "source": [
    "# Backup labels, useful for docoding our reviews after vectorization\n",
    "# Lets us verify our networks predictions\n",
    "\n",
    "xtrain = x_train\n",
    "xtest = x_test"
   ]
  },
  {
   "cell_type": "code",
   "execution_count": 9,
   "metadata": {},
   "outputs": [],
   "source": [
    "# Get word indices accessable through the imdb object\n",
    "\n",
    "word_index = imdb.get_word_index()\n",
    "\n",
    "# Make a dictionary using the word index for decoding reviews\n",
    "\n",
    "reverse_word_index = dict([(value, key) for (key, value) in word_index.items()])\n"
   ]
  },
  {
   "cell_type": "code",
   "execution_count": 10,
   "metadata": {},
   "outputs": [],
   "source": [
    "\n",
    "# Make a function which uses the dictionary for decoding reviews\n",
    "# Agruments accept review index and data split (train/test)\n",
    "\n",
    "\n",
    "def decode_review(n, split='train'):  \n",
    "    \n",
    "    # Adjust decoding by 3 positions, as positions 0, 1, and 2 are reserved\n",
    "    \n",
    "    if split=='train':\n",
    "        decoded_review = ' '.join([reverse_word_index.get(i - 3, '?') for i in xtrain[n]])\n",
    "        \n",
    "    elif split == 'test':\n",
    "        decoded_review = ' '.join([reverse_word_index.get(i - 3, '?') for i in xtest[n]])\n",
    "        \n",
    "    # Return decoded string\n",
    "    \n",
    "    return decoded_review"
   ]
  },
  {
   "cell_type": "code",
   "execution_count": 11,
   "metadata": {},
   "outputs": [
    {
     "name": "stdout",
     "output_type": "stream",
     "text": [
      "Traning label: 0\n"
     ]
    },
    {
     "data": {
      "text/plain": [
       "(\"? begins better than it ends funny that the russian submarine crew ? all other actors it's like those scenes where documentary shots br br spoiler part the message ? was contrary to the whole story it just does not ? br br\",)"
      ]
     },
     "execution_count": 11,
     "metadata": {},
     "output_type": "execute_result"
    }
   ],
   "source": [
    "\n",
    "print('Traning label:',y_train[5])\n",
    "decode_review(5, split='train'), \n"
   ]
  },
  {
   "cell_type": "code",
   "execution_count": 12,
   "metadata": {},
   "outputs": [],
   "source": [
    "\n",
    "# Make a function to transform the list of numbers into matrix of vectors\n",
    "# Accepts training and test arrays, returns vectorized matrix representation\n",
    "\n",
    "\n",
    "def vectorize_features(features):\n",
    "    \n",
    "    dimension=12000                                         #Define the number of total words in our corpus\n",
    "    \n",
    "    review_vectors = np.zeros((len(features), dimension))   #make an empty 2D tensor of shape (25000,12000)\n",
    "    \n",
    "    for location, feature in enumerate(features):           #iterate over each review \n",
    "        \n",
    "        review_vectors[location, feature] = 1.              #set the indices of our empty tensor to 1s\n",
    "        \n",
    "    return review_vectors\n",
    "\n",
    "\n",
    "x_train = vectorize_features(x_train)\n",
    "x_test = vectorize_features(x_test)\n"
   ]
  },
  {
   "cell_type": "code",
   "execution_count": 13,
   "metadata": {},
   "outputs": [],
   "source": [
    "# Convert labels to float32 arrays \n",
    "\n",
    "y_train = np.asarray(y_train).astype('float32')\n",
    "y_test = np.asarray(y_test).astype('float32')\n"
   ]
  },
  {
   "cell_type": "code",
   "execution_count": 14,
   "metadata": {},
   "outputs": [
    {
     "data": {
      "text/plain": [
       "(numpy.ndarray, (25000, 12000), (25000,))"
      ]
     },
     "execution_count": 14,
     "metadata": {},
     "output_type": "execute_result"
    }
   ],
   "source": [
    "#Check type and dimensions\n",
    "\n",
    "type(x_train), x_train.shape, y_train.shape"
   ]
  },
  {
   "cell_type": "code",
   "execution_count": 15,
   "metadata": {},
   "outputs": [
    {
     "data": {
      "text/plain": [
       "((12000,), array([0., 1., 1., ..., 0., 0., 0.]), 12000)"
      ]
     },
     "execution_count": 15,
     "metadata": {},
     "output_type": "execute_result"
    }
   ],
   "source": [
    "#Check content of one training instance\n",
    "\n",
    "x_train[0].shape, x_train[1], len(x_train[1])"
   ]
  },
  {
   "cell_type": "code",
   "execution_count": 16,
   "metadata": {},
   "outputs": [],
   "source": [
    "#Build neural network\n",
    "\n",
    "model = Sequential()\n",
    "model.add(Dense(6, activation='relu', input_shape=(12000,)))\n",
    "model.add(Dense(6, activation='relu'))\n",
    "model.add(Dense(1, activation='sigmoid'))"
   ]
  },
  {
   "cell_type": "code",
   "execution_count": 17,
   "metadata": {},
   "outputs": [],
   "source": [
    "#Compile network\n",
    "\n",
    "model.compile(optimizer=optimizers.RMSprop(lr=0.001),\n",
    "            loss='binary_crossentropy',\n",
    "            metrics=['accuracy'])"
   ]
  },
  {
   "cell_type": "code",
   "execution_count": 18,
   "metadata": {},
   "outputs": [
    {
     "name": "stdout",
     "output_type": "stream",
     "text": [
      "_________________________________________________________________\n",
      "Layer (type)                 Output Shape              Param #   \n",
      "=================================================================\n",
      "dense_1 (Dense)              (None, 6)                 72006     \n",
      "_________________________________________________________________\n",
      "dense_2 (Dense)              (None, 6)                 42        \n",
      "_________________________________________________________________\n",
      "dense_3 (Dense)              (None, 1)                 7         \n",
      "=================================================================\n",
      "Total params: 72,055\n",
      "Trainable params: 72,055\n",
      "Non-trainable params: 0\n",
      "_________________________________________________________________\n"
     ]
    }
   ],
   "source": [
    "# View model configuration\n",
    "\n",
    "model.summary()"
   ]
  },
  {
   "cell_type": "code",
   "execution_count": 19,
   "metadata": {},
   "outputs": [],
   "source": [
    "# Define early stopping callback to monitor validation loss\n",
    "\n",
    "\n",
    "early_stopping = keras.callbacks.EarlyStopping(monitor='val_loss')"
   ]
  },
  {
   "cell_type": "code",
   "execution_count": 20,
   "metadata": {},
   "outputs": [
    {
     "name": "stdout",
     "output_type": "stream",
     "text": [
      "Train on 25000 samples, validate on 25000 samples\n",
      "Epoch 1/20\n",
      "25000/25000 [==============================] - 7s 280us/step - loss: 0.4659 - acc: 0.8217 - val_loss: 0.3456 - val_acc: 0.8882\n",
      "Epoch 2/20\n",
      "25000/25000 [==============================] - 5s 210us/step - loss: 0.2428 - acc: 0.9202 - val_loss: 0.2880 - val_acc: 0.8862\n",
      "Epoch 3/20\n",
      "25000/25000 [==============================] - 5s 216us/step - loss: 0.1787 - acc: 0.9385 - val_loss: 0.2919 - val_acc: 0.8863\n"
     ]
    }
   ],
   "source": [
    "# Define variable to capture the model history generated by calling .fit on the model object\n",
    "\n",
    "\n",
    "network_metadata = model.fit(x_train, y_train,\n",
    "                             validation_data=(x_test, y_test),\n",
    "                             epochs=20, \n",
    "                             batch_size=100,\n",
    "                             callbacks=[early_stopping])"
   ]
  },
  {
   "cell_type": "code",
   "execution_count": 21,
   "metadata": {},
   "outputs": [
    {
     "name": "stdout",
     "output_type": "stream",
     "text": [
      "25000/25000 [==============================] - 3s 119us/step\n"
     ]
    },
    {
     "data": {
      "text/plain": [
       "[0.2918995348930359, 0.88632]"
      ]
     },
     "execution_count": 21,
     "metadata": {},
     "output_type": "execute_result"
    }
   ],
   "source": [
    "# Will correspond to val_acc at last training epoch\n",
    "\n",
    "model.evaluate(x_test, y_test)"
   ]
  },
  {
   "cell_type": "code",
   "execution_count": 22,
   "metadata": {},
   "outputs": [
    {
     "data": {
      "text/plain": [
       "dict_keys(['val_loss', 'val_acc', 'loss', 'acc'])"
      ]
     },
     "execution_count": 22,
     "metadata": {},
     "output_type": "execute_result"
    }
   ],
   "source": [
    "# Collect the history dictionary and view items stored within\n",
    "\n",
    "history_dict = network_metadata.history\n",
    "history_dict.keys()"
   ]
  },
  {
   "cell_type": "code",
   "execution_count": 23,
   "metadata": {},
   "outputs": [
    {
     "data": {
      "text/plain": [
       "[0.4658719700574875, 0.24284798341989516, 0.17866968768835068]"
      ]
     },
     "execution_count": 23,
     "metadata": {},
     "output_type": "execute_result"
    }
   ],
   "source": [
    "# Shows training loss for each epoch trained\n",
    "\n",
    "history_dict['loss']"
   ]
  },
  {
   "cell_type": "code",
   "execution_count": 24,
   "metadata": {},
   "outputs": [
    {
     "data": {
      "image/png": "[encoded data removed]",
      "text/plain": [
       "<Figure size 432x288 with 1 Axes>"
      ]
     },
     "metadata": {},
     "output_type": "display_data"
    }
   ],
   "source": [
    "#Plot training and validation loss to spot overfitting\n",
    "\n",
    "acc = history_dict['acc']                                        # Training accuracy array\n",
    "loss_values = history_dict['loss']                               # Training loss array\n",
    "val_loss_values = history_dict['val_loss']                       # Validation loss\n",
    "epochs = range(1, len(acc) + 1)                                  # Range of epochs\n",
    "\n",
    "\n",
    "plt.plot(epochs, loss_values, 'r', label='Training loss')        # Plot Training loss in red  \n",
    "plt.plot(epochs, val_loss_values, 'b', label='Validation loss')  # Plot val loss in blue\n",
    "plt.title('Training and validation loss')                        # Give a title\n",
    "plt.xlabel('Epochs')                                             # Label x axis\n",
    "plt.ylabel('Loss')                                               # Label y axis\n",
    "plt.legend()                                                     # Include legend\n",
    "plt.show()                                                       # Show plot"
   ]
  },
  {
   "cell_type": "code",
   "execution_count": 25,
   "metadata": {},
   "outputs": [
    {
     "data": {
      "image/png": "[encoded data removed]",
      "text/plain": [
       "<Figure size 432x288 with 1 Axes>"
      ]
     },
     "metadata": {},
     "output_type": "display_data"
    }
   ],
   "source": [
    "#Now plot training accuracy\n",
    "\n",
    "plt.clf()                                                                   # Clear previous figure\n",
    "\n",
    "acc_values = history_dict['acc']                                            # Training accuracy array\n",
    "val_acc_values = history_dict['val_acc']                                    # Val accuracy array\n",
    "\n",
    "\n",
    "plt.plot(epochs, history_dict.get('acc'), 'r', label='Training acc')        # Plot training accuracy in red\n",
    "plt.plot(epochs, history_dict.get('val_acc'), 'b', label='Validation acc')  # Plot Val accuracy in blue\n",
    "\n",
    "\n",
    "plt.title('Training and validation accuracy')                               # Give a title\n",
    "plt.xlabel('Epochs')                                                        # Label x axis\n",
    "plt.ylabel('Loss')                                                          # Label y axis\n",
    "plt.legend()                                                                # Include legend\n",
    "plt.show()                                                                  # Show plot"
   ]
  },
  {
   "cell_type": "code",
   "execution_count": 26,
   "metadata": {},
   "outputs": [
    {
     "data": {
      "text/plain": [
       "array([0.8569782], dtype=float32)"
      ]
     },
     "execution_count": 26,
     "metadata": {},
     "output_type": "execute_result"
    }
   ],
   "source": [
    "# Make prediction on the test set \n",
    "\n",
    "predictions = model.predict([x_test])\n",
    "\n",
    "# Check a prediction of the model\n",
    "predictions[5]"
   ]
  },
  {
   "cell_type": "code",
   "execution_count": 27,
   "metadata": {},
   "outputs": [
    {
     "data": {
      "text/plain": [
       "(1.0,\n",
       " \"? i'm absolutely disgusted this movie isn't being sold all who love this movie should email disney and increase the demand for it they'd eventually have to sell it then i'd buy copies for everybody i know everything and everybody in this movie did a good job and i haven't figured out why disney hasn't put this movie on dvd or on vhs in rental stores at least i haven't seen any copies this is a wicked good movie and should be seen by all the kids in the new generation don't get to see it and i think they should it should at least be put back on the channel this movie doesn't deserve a cheap download it deserves the real thing i'm them now this movie will be on dvd\")"
      ]
     },
     "execution_count": 27,
     "metadata": {},
     "output_type": "execute_result"
    }
   ],
   "source": [
    "# Print label, and decode review no. 6\n",
    "\n",
    "y_test[5], decode_review(5,split='test')"
   ]
  },
  {
   "cell_type": "code",
   "execution_count": 28,
   "metadata": {},
   "outputs": [],
   "source": [
    "# Make helper function to gauge network's predictions between some simple thresholds\n",
    "\n",
    "\n",
    "def gauge_predictions(n):    \n",
    "    if (predictions[n] <= 0.4) and (y_test[n]==0):\n",
    "        print('Network correctly predicts that review %d is negative'%(n))\n",
    "        \n",
    "    elif (predictions[n] <= 0.4) and (y_test[n]==1):\n",
    "        print('Network falsely predicts that review %d is negative'%(n))\n",
    "        \n",
    "    elif (predictions[n] >= 0.7) and (y_test[n]==1):\n",
    "        print('Network correctly predicts that review %d is positive'%(n))\n",
    "        \n",
    "    elif (predictions[n] >= 0.7) and (y_test[n]==0):\n",
    "        print('Network falsely predicts that review %d is positive'%(n))\n",
    "        \n",
    "    else:\n",
    "        print('Network is not so sure. Review no. %d has a probability score of'%(n), predictions[n])\n",
    "        "
   ]
  },
  {
   "cell_type": "code",
   "execution_count": 29,
   "metadata": {},
   "outputs": [],
   "source": [
    "# Make halper function which uses both the gauging function and the decoding function\n",
    "# Returns network's prediction as well as decoded version of review\n",
    "\n",
    "\n",
    "def verify_predictions(n):    \n",
    "    return gauge_predictions(n), predictions[n], decode_review(n,split='test')"
   ]
  },
  {
   "cell_type": "code",
   "execution_count": 30,
   "metadata": {},
   "outputs": [
    {
     "name": "stdout",
     "output_type": "stream",
     "text": [
      "Network is not so sure. Review no. 19999 has a probability score of [0.68728095]\n"
     ]
    },
    {
     "data": {
      "text/plain": [
       "(None,\n",
       " array([0.68728095], dtype=float32),\n",
       " \"? this movies is really special it's about a young french who go in ? spain in order to study and in he meets other ? like him this film he's the european movies of the year so go watch it\")"
      ]
     },
     "execution_count": 30,
     "metadata": {},
     "output_type": "execute_result"
    }
   ],
   "source": [
    "verify_predictions(19999)"
   ]
  },
  {
   "cell_type": "code",
   "execution_count": 31,
   "metadata": {},
   "outputs": [
    {
     "name": "stdout",
     "output_type": "stream",
     "text": [
      "Network falsely predicts that review 22 is negative\n"
     ]
    },
    {
     "data": {
      "text/plain": [
       "(None,\n",
       " array([0.26395187], dtype=float32),\n",
       " \"? how managed to avoid attention remains a mystery a potent mix of comedy and crime this one takes chances where tarantino plays it safe with the hollywood formula the risks don't always pay off one character in one sequence comes off ? silly and falls flat in the lead role thomas jane gives a wonderful and complex performance and two brief appearances by mickey rourke hint at the high potential of this much under and mis used actor here's a director one should keep one's eye on\")"
      ]
     },
     "execution_count": 31,
     "metadata": {},
     "output_type": "execute_result"
    }
   ],
   "source": [
    "verify_predictions(22)"
   ]
  },
  {
   "cell_type": "code",
   "execution_count": 32,
   "metadata": {},
   "outputs": [],
   "source": [
    "# Function to predict n number of randomly chosen reviews, and visualize predicted content \n",
    "\n",
    "from random import randint\n",
    "\n",
    "def random_predict(n_reviews):\n",
    "    for i in range(n_reviews):\n",
    "        print()\n",
    "        print(verify_predictions(randint(0, 24000)))\n",
    "        print()\n",
    "\n"
   ]
  },
  {
   "cell_type": "code",
   "execution_count": 33,
   "metadata": {},
   "outputs": [
    {
     "name": "stdout",
     "output_type": "stream",
     "text": [
      "\n",
      "Network correctly predicts that review 18480 is positive\n",
      "(None, array([0.91183215], dtype=float32), \"? i read the book before i saw the movie i knew the movie was going to be good because the book was great i seriously recommend you see this amazing fantastic movie i know you will like it when i went to see it i was there with my sister and there was nobody that was with us i was a little disappointed but nobody that i know has gone in to that movie and came out saying that was a horrible movie nobody can it is so great i think everyone will like it to bad nobody wants to see it anyway i hope from what you have heard about this movie from me will make you want to see this movie i guarantee you'll like it as much as i do im obsessed i am\")\n",
      "\n",
      "\n",
      "Network correctly predicts that review 10795 is positive\n",
      "(None, array([0.71410865], dtype=float32), \"? a hundred miles away from the scene of a ? murder in small town american jill johnson belle ? in for a night of ? with the children asleep and a beautiful home to relax in she locks the door and sets the alarm but when a series of eerie phone calls from a stranger says that she check the children jill ? fear to terror when she has the calls ? and what the police find turns the perfect ? job into a 16 year ? worst nightmare there aren't any other lead actors in this movie ? belle is the main star with a cute face the day she arrives to ? she really has no idea what in the hell really ? her br br if i were in a house like the one jill was in i would explore everything that is around the ? would be the first person i would looks at but i'm a male and i don't ? but what i found funny was the size of the house i was thinking would the movie be the same if the house weren't so big anyone could get lost in that huge house but this movie needed a house with a massive size br br ? belle has a cute face a perfect smile but it's like for a movie like this the lead actress needs someone with experience i found ? not that good i don't know maybe she thought that this could be her breakthrough role i do like her she is a cute girl but someone to have a role in this movie has to be someone how is different to take it br br this movie wasn't scary i also found this movie more like a chick flick i think the only reason this was released during the ? weekend was that the guys stay home and watch the game and the girls go out to go see this it also seems like a type of a movie when girls will enjoy more than guys but i did like this movie but for how it is girls just like et scared or scream this was just a pretty decent movie br br maybe anyone could like this movie there are many pg 13 horror films that never succeed this was on its own level so i kinda liked this movie i give it a 7 10\")\n",
      "\n",
      "\n",
      "Network correctly predicts that review 11418 is negative\n",
      "(None, array([0.24784859], dtype=float32), \"? i have never seen a movie so bad it's not even entertaining enough to be a drinking game br br it's so bad i don't even want to talk about it and that's the whole point of this isn't it please don't bother to see this movie said\")\n",
      "\n"
     ]
    }
   ],
   "source": [
    "random_predict(3)"
   ]
  }
 ],
 "metadata": {
  "kernelspec": {
   "display_name": "Python 3",
   "language": "python",
   "name": "python3"
  },
  "language_info": {
   "codemirror_mode": {
    "name": "ipython",
    "version": 3
   },
   "file_extension": ".py",
   "mimetype": "text/x-python",
   "name": "python",
   "nbconvert_exporter": "python",
   "pygments_lexer": "ipython3",
   "version": "3.6.5"
  }
 },
 "nbformat": 4,
 "nbformat_minor": 2
}
