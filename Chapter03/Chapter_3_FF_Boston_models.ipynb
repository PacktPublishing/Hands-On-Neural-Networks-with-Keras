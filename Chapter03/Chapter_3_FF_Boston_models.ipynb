{
 "cells": [
  {
   "cell_type": "code",
   "execution_count": 1,
   "metadata": {},
   "outputs": [
    {
     "name": "stderr",
     "output_type": "stream",
     "text": [
      "D:\\Anaconda\\lib\\site-packages\\h5py\\__init__.py:36: FutureWarning: Conversion of the second argument of issubdtype from `float` to `np.floating` is deprecated. In future, it will be treated as `np.float64 == np.dtype(float).type`.\n",
      "  from ._conv import register_converters as _register_converters\n",
      "Using TensorFlow backend.\n"
     ]
    }
   ],
   "source": [
    "import numpy as np\n",
    "import pandas as pd\n",
    "\n",
    "from keras.models import Sequential\n",
    "from keras.layers import Dense\n",
    "from keras.wrappers.scikit_learn import KerasRegressor\n",
    "\n",
    "\n",
    "from sklearn.model_selection import cross_val_score\n",
    "from sklearn.model_selection import KFold\n",
    "\n",
    "from sklearn.preprocessing import StandardScaler\n",
    "from sklearn.pipeline import Pipeline"
   ]
  },
  {
   "cell_type": "code",
   "execution_count": 13,
   "metadata": {},
   "outputs": [
    {
     "name": "stdout",
     "output_type": "stream",
     "text": [
      "Pandas version : 0.23.0\n",
      "NumPy version : 1.14.3\n",
      "Sci-kit learn version : 0.19.1\n",
      "Keras version : 2.2.4\n",
      "With tensorflow backend, version :  1.11.0\n"
     ]
    }
   ],
   "source": [
    "# Version check\n",
    "\n",
    "import sklearn\n",
    "import keras\n",
    "import tensorflow as tf\n",
    "\n",
    "print('Pandas version :' , pd.__version__)\n",
    "print('NumPy version :' , np.__version__)\n",
    "print('Sci-kit learn version :' , sklearn.__version__)\n",
    "print('Keras version :' , keras.__version__)\n",
    "print('With tensorflow backend, version : ', tf.__version__ )"
   ]
  },
  {
   "cell_type": "code",
   "execution_count": 2,
   "metadata": {},
   "outputs": [],
   "source": [
    "#Load data\n",
    "from keras.datasets import boston_housing\n",
    "(x_train,y_train),(x_test,y_test) = boston_housing.load_data()"
   ]
  },
  {
   "cell_type": "code",
   "execution_count": 3,
   "metadata": {},
   "outputs": [
    {
     "data": {
      "text/plain": [
       "((404, 13), (102, 13))"
      ]
     },
     "execution_count": 3,
     "metadata": {},
     "output_type": "execute_result"
    }
   ],
   "source": [
    "x_train.shape, x_test.shape"
   ]
  },
  {
   "cell_type": "code",
   "execution_count": 4,
   "metadata": {},
   "outputs": [],
   "source": [
    "#To perform K-fold cross validation\n",
    "#Concatnate train and test set into one single dataset\n",
    "\n",
    "\n",
    "x_train = np.concatenate((x_train,x_test), axis=0)\n",
    "y_train = np.concatenate((y_train,y_test), axis=0)"
   ]
  },
  {
   "cell_type": "code",
   "execution_count": 5,
   "metadata": {},
   "outputs": [
    {
     "data": {
      "text/plain": [
       "((506, 13), (506,))"
      ]
     },
     "execution_count": 5,
     "metadata": {},
     "output_type": "execute_result"
    }
   ],
   "source": [
    "x_train.shape, y_train.shape"
   ]
  },
  {
   "cell_type": "code",
   "execution_count": 6,
   "metadata": {},
   "outputs": [
    {
     "data": {
      "text/plain": [
       "{'CRIM': 'Per capita crime rate.',\n",
       " 'ZN': 'The proportion of residential land zoned for lots over 25,000 square feet.',\n",
       " 'INDUS': 'The proportion of non-retail business acres per town.',\n",
       " 'CHAS': 'Charles River dummy variable (= 1 if tract bounds river; 0 otherwise).',\n",
       " 'NOX': 'Nitric oxides concentration (parts per 10 million).',\n",
       " 'RM': 'The average number of rooms per dwelling.',\n",
       " 'AGE': 'The proportion of owner-occupied units built before 1940.',\n",
       " 'DIS': 'Weighted distances to five Boston employment centers.',\n",
       " 'RAD': 'Index of accessibility to radial highways.',\n",
       " 'TAX': 'Full-value property-tax rate per $10,000.',\n",
       " 'PTRATIO': 'Pupil-teacher ratio by town.',\n",
       " 'B': '1000 * (Bk - 0.63) ** 2 where Bk is the proportion of Black people by town.',\n",
       " 'LSTAT': 'Percentage lower status of the population.'}"
      ]
     },
     "execution_count": 6,
     "metadata": {},
     "output_type": "execute_result"
    }
   ],
   "source": [
    "column_names = ['CRIM', 'ZN', 'INDUS', 'CHAS', 'NOX', 'RM', 'AGE', 'DIS', 'RAD',\n",
    "                'TAX', 'PTRATIO', 'B', 'LSTAT']\n",
    "\n",
    "key = ['Per capita crime rate.',\n",
    "'The proportion of residential land zoned for lots over 25,000 square feet.',\n",
    "'The proportion of non-retail business acres per town.',\n",
    "'Charles River dummy variable (= 1 if tract bounds river; 0 otherwise).',\n",
    "'Nitric oxides concentration (parts per 10 million).',\n",
    "'The average number of rooms per dwelling.',\n",
    "'The proportion of owner-occupied units built before 1940.',\n",
    "'Weighted distances to five Boston employment centers.',\n",
    "'Index of accessibility to radial highways.',\n",
    "'Full-value property-tax rate per $10,000.',\n",
    "'Pupil-teacher ratio by town.',\n",
    "'1000 * (Bk - 0.63) ** 2 where Bk is the proportion of Black people by town.',\n",
    "'Percentage lower status of the population.']\n",
    "\n",
    "col_index = dict(zip(column_names, key))\n",
    "col_index"
   ]
  },
  {
   "cell_type": "code",
   "execution_count": 7,
   "metadata": {},
   "outputs": [
    {
     "data": {
      "text/html": [
       "<div>\n",
       "<style scoped>\n",
       "    .dataframe tbody tr th:only-of-type {\n",
       "        vertical-align: middle;\n",
       "    }\n",
       "\n",
       "    .dataframe tbody tr th {\n",
       "        vertical-align: top;\n",
       "    }\n",
       "\n",
       "    .dataframe thead th {\n",
       "        text-align: right;\n",
       "    }\n",
       "</style>\n",
       "<table border=\"1\" class=\"dataframe\">\n",
       "  <thead>\n",
       "    <tr style=\"text-align: right;\">\n",
       "      <th></th>\n",
       "      <th>CRIM</th>\n",
       "      <th>ZN</th>\n",
       "      <th>INDUS</th>\n",
       "      <th>CHAS</th>\n",
       "      <th>NOX</th>\n",
       "      <th>RM</th>\n",
       "      <th>AGE</th>\n",
       "      <th>DIS</th>\n",
       "      <th>RAD</th>\n",
       "      <th>TAX</th>\n",
       "      <th>PTRATIO</th>\n",
       "      <th>B</th>\n",
       "      <th>LSTAT</th>\n",
       "    </tr>\n",
       "  </thead>\n",
       "  <tbody>\n",
       "    <tr>\n",
       "      <th>0</th>\n",
       "      <td>1.23247</td>\n",
       "      <td>0.0</td>\n",
       "      <td>8.14</td>\n",
       "      <td>0.0</td>\n",
       "      <td>0.538</td>\n",
       "      <td>6.142</td>\n",
       "      <td>91.7</td>\n",
       "      <td>3.9769</td>\n",
       "      <td>4.0</td>\n",
       "      <td>307.0</td>\n",
       "      <td>21.0</td>\n",
       "      <td>396.90</td>\n",
       "      <td>18.72</td>\n",
       "    </tr>\n",
       "    <tr>\n",
       "      <th>1</th>\n",
       "      <td>0.02177</td>\n",
       "      <td>82.5</td>\n",
       "      <td>2.03</td>\n",
       "      <td>0.0</td>\n",
       "      <td>0.415</td>\n",
       "      <td>7.610</td>\n",
       "      <td>15.7</td>\n",
       "      <td>6.2700</td>\n",
       "      <td>2.0</td>\n",
       "      <td>348.0</td>\n",
       "      <td>14.7</td>\n",
       "      <td>395.38</td>\n",
       "      <td>3.11</td>\n",
       "    </tr>\n",
       "    <tr>\n",
       "      <th>2</th>\n",
       "      <td>4.89822</td>\n",
       "      <td>0.0</td>\n",
       "      <td>18.10</td>\n",
       "      <td>0.0</td>\n",
       "      <td>0.631</td>\n",
       "      <td>4.970</td>\n",
       "      <td>100.0</td>\n",
       "      <td>1.3325</td>\n",
       "      <td>24.0</td>\n",
       "      <td>666.0</td>\n",
       "      <td>20.2</td>\n",
       "      <td>375.52</td>\n",
       "      <td>3.26</td>\n",
       "    </tr>\n",
       "    <tr>\n",
       "      <th>3</th>\n",
       "      <td>0.03961</td>\n",
       "      <td>0.0</td>\n",
       "      <td>5.19</td>\n",
       "      <td>0.0</td>\n",
       "      <td>0.515</td>\n",
       "      <td>6.037</td>\n",
       "      <td>34.5</td>\n",
       "      <td>5.9853</td>\n",
       "      <td>5.0</td>\n",
       "      <td>224.0</td>\n",
       "      <td>20.2</td>\n",
       "      <td>396.90</td>\n",
       "      <td>8.01</td>\n",
       "    </tr>\n",
       "    <tr>\n",
       "      <th>4</th>\n",
       "      <td>3.69311</td>\n",
       "      <td>0.0</td>\n",
       "      <td>18.10</td>\n",
       "      <td>0.0</td>\n",
       "      <td>0.713</td>\n",
       "      <td>6.376</td>\n",
       "      <td>88.4</td>\n",
       "      <td>2.5671</td>\n",
       "      <td>24.0</td>\n",
       "      <td>666.0</td>\n",
       "      <td>20.2</td>\n",
       "      <td>391.43</td>\n",
       "      <td>14.65</td>\n",
       "    </tr>\n",
       "  </tbody>\n",
       "</table>\n",
       "</div>"
      ],
      "text/plain": [
       "      CRIM    ZN  INDUS  CHAS    NOX     RM    AGE     DIS   RAD    TAX  \\\n",
       "0  1.23247   0.0   8.14   0.0  0.538  6.142   91.7  3.9769   4.0  307.0   \n",
       "1  0.02177  82.5   2.03   0.0  0.415  7.610   15.7  6.2700   2.0  348.0   \n",
       "2  4.89822   0.0  18.10   0.0  0.631  4.970  100.0  1.3325  24.0  666.0   \n",
       "3  0.03961   0.0   5.19   0.0  0.515  6.037   34.5  5.9853   5.0  224.0   \n",
       "4  3.69311   0.0  18.10   0.0  0.713  6.376   88.4  2.5671  24.0  666.0   \n",
       "\n",
       "   PTRATIO       B  LSTAT  \n",
       "0     21.0  396.90  18.72  \n",
       "1     14.7  395.38   3.11  \n",
       "2     20.2  375.52   3.26  \n",
       "3     20.2  396.90   8.01  \n",
       "4     20.2  391.43  14.65  "
      ]
     },
     "execution_count": 7,
     "metadata": {},
     "output_type": "execute_result"
    }
   ],
   "source": [
    "df = pd.DataFrame(x_train, columns=column_names)\n",
    "df.head()"
   ]
  },
  {
   "cell_type": "code",
   "execution_count": 8,
   "metadata": {},
   "outputs": [],
   "source": [
    "#Small model to establish baseline\n",
    "\n",
    "def baseline_model():\n",
    "    model = Sequential()\n",
    "    model.add(Dense(13, input_dim=13, kernel_initializer='normal', activation='relu'))\n",
    "    model.add(Dense(1, kernel_initializer='normal'))\n",
    "    model.compile(loss='mean_squared_error', optimizer='adam')\n",
    "    return model\n"
   ]
  },
  {
   "cell_type": "code",
   "execution_count": 9,
   "metadata": {},
   "outputs": [],
   "source": [
    "# Larger models below let you tune your model and determine where overfitting occurs,\n",
    "# Then you can adjust the model hyperparameters (number of layers/neurons per layer accordingly)\n",
    "\n",
    "def larger_model():\n",
    "    model = Sequential()\n",
    "    model.add(Dense(13, input_dim=13, kernel_initializer='normal', activation='relu'))\n",
    "    model.add(Dense(6, kernel_initializer='normal', activation='relu'))\n",
    "    model.add(Dense(1, kernel_initializer='normal'))\n",
    "    model.compile(loss='mean_squared_error', optimizer='adam', metrics=['mae'])\n",
    "    return model\n"
   ]
  },
  {
   "cell_type": "code",
   "execution_count": 10,
   "metadata": {},
   "outputs": [],
   "source": [
    "def wider_model():\n",
    "    model = Sequential()\n",
    "    model.add(Dense(20, input_dim=13, kernel_initializer='normal', activation='relu'))\n",
    "    model.add(Dense(1, kernel_initializer='normal'))\n",
    "    model.compile(loss='mean_squared_error', optimizer='adam', metrics=['mae'])\n",
    "    return model\n",
    "\n"
   ]
  },
  {
   "cell_type": "code",
   "execution_count": 11,
   "metadata": {},
   "outputs": [],
   "source": [
    "def wider_deeper_model():\n",
    "    model = Sequential()\n",
    "    model.add(Dense(25, input_dim=13, kernel_initializer='normal', activation='relu'))\n",
    "    model.add(Dense(18, kernel_initializer='normal', activation='relu'))\n",
    "    model.add(Dense(7, kernel_initializer='normal', activation='relu'))\n",
    "    model.add(Dense(1, kernel_initializer='normal'))\n",
    "    model.compile(loss='mean_squared_error', optimizer='adam', metrics=['mae'])\n",
    "    return model\n",
    "\n"
   ]
  },
  {
   "cell_type": "code",
   "execution_count": 12,
   "metadata": {},
   "outputs": [
    {
     "data": {
      "text/plain": [
       "function"
      ]
     },
     "execution_count": 12,
     "metadata": {},
     "output_type": "execute_result"
    }
   ],
   "source": [
    "#define a list variable holding each model function\n",
    "\n",
    "all_models = [baseline_model, larger_model, wider_model, wider_deeper_model ]\n",
    "\n",
    "\n",
    "type(all_models[1])"
   ]
  },
  {
   "cell_type": "code",
   "execution_count": 14,
   "metadata": {},
   "outputs": [],
   "source": [
    "#set seed for reproducability \n",
    "seed = 7\n",
    "\n",
    "# Add a data Scaler and the keras regressor containing our model function to a list of estimators\n",
    "\n",
    "estimators = []\n",
    "estimators.append(('standardize', StandardScaler()))\n",
    "estimators.append(('mlp', KerasRegressor(build_fn=baseline_model, epochs=100, batch_size=5, verbose=0)))\n",
    "    \n",
    "#add our estimator list to a Sklearn pipeline\n",
    "\n",
    "pipeline = Pipeline(estimators)\n",
    " \n",
    "#initialize instance of k-fold validation from sklearn api\n",
    "\n",
    "kfold = KFold(n_splits=5, random_state=seed)"
   ]
  },
  {
   "cell_type": "code",
   "execution_count": 16,
   "metadata": {},
   "outputs": [
    {
     "name": "stdout",
     "output_type": "stream",
     "text": [
      "Model Type: <function baseline_model at 0x000001454959C950>\n",
      "MSE per fold:\n",
      "[-14.16954346 -12.72713017 -17.84744423 -14.52326518 -17.4097627 ]\n",
      "Average MSE of all 5 runs: 15.34, with standard dev: (1.97)\n",
      "Model Type: <function larger_model at 0x000001454959CB70>\n",
      "MSE per fold:\n",
      "[-11.07775911 -12.70752338 -17.85225084 -14.55760158 -17.3656806 ]\n",
      "Average MSE of all 5 runs: 14.71, with standard dev: (2.61)\n",
      "Model Type: <function wider_model at 0x000001454959C730>\n",
      "MSE per fold:\n",
      "[-10.58079611 -12.73620375 -17.84509979 -14.44858215 -17.42180785]\n",
      "Average MSE of all 5 runs: 14.61, with standard dev: (2.76)\n",
      "Model Type: <function wider_deeper_model at 0x000001454959CE18>\n",
      "MSE per fold:\n",
      "[-14.14551844 -12.73632747 -17.87115498 -14.50908846 -17.36813697]\n",
      "Average MSE of all 5 runs: 15.33, with standard dev: (1.97)\n"
     ]
    }
   ],
   "source": [
    "#for each model\n",
    "\n",
    "for i in all_models:\n",
    "    \n",
    "    #initializae fixed random weights\n",
    "    np.random.seed(seed)\n",
    "    \n",
    "    #pass pipeline instance, training data and labels, and k-fold crossvalidator instance to evaluate score\n",
    "\n",
    "    results = cross_val_score(pipeline, x_train, y_train, cv=kfold)\n",
    "\n",
    "    #Print name of model being evaluated    \n",
    "    print('Model Type:', i)\n",
    "    \n",
    "    #The results variable contains the mean squared errors for each of our 5 cross validation runs.\n",
    "    print('MSE per fold:')\n",
    "    print(results)\n",
    "    \n",
    "    #Print mean and sd of all five folds, per model\n",
    "    print(\"Average MSE of all 5 runs: %.2f, with standard dev: (%.2f)\" % (-1*(results.mean()), results.std()))"
   ]
  },
  {
   "cell_type": "code",
   "execution_count": null,
   "metadata": {},
   "outputs": [],
   "source": []
  }
 ],
 "metadata": {
  "kernelspec": {
   "display_name": "Python 3",
   "language": "python",
   "name": "python3"
  },
  "language_info": {
   "codemirror_mode": {
    "name": "ipython",
    "version": 3
   },
   "file_extension": ".py",
   "mimetype": "text/x-python",
   "name": "python",
   "nbconvert_exporter": "python",
   "pygments_lexer": "ipython3",
   "version": "3.6.5"
  }
 },
 "nbformat": 4,
 "nbformat_minor": 2
}
